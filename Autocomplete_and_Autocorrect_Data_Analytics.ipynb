{
  "nbformat": 4,
  "nbformat_minor": 0,
  "metadata": {
    "colab": {
      "provenance": []
    },
    "kernelspec": {
      "name": "python3",
      "display_name": "Python 3"
    },
    "language_info": {
      "name": "python"
    }
  },
  "cells": [
    {
      "cell_type": "code",
      "source": [
        "def read_text_file(file_path):\n",
        "    with open(file_path, 'r', encoding='utf-8') as file:\n",
        "        data = file.read()\n",
        "    return data\n",
        "\n",
        "corpus_data = read_text_file('book.txt')\n"
      ],
      "metadata": {
        "id": "jYclHQJdL6S1"
      },
      "execution_count": null,
      "outputs": []
    },
    {
      "cell_type": "code",
      "source": [
        "import string\n",
        "import re\n",
        "\n",
        "def preprocess_text(text):\n",
        "    # Remove punctuation\n",
        "    text = text.translate(str.maketrans('', '', string.punctuation))\n",
        "    # Lowercase the text\n",
        "    text = text.lower()\n",
        "    # Tokenize the text\n",
        "    tokens = re.findall(r'\\b\\w+\\b', text)\n",
        "    return tokens\n",
        "\n",
        "cleaned_corpus = preprocess_text(corpus_data)\n"
      ],
      "metadata": {
        "id": "Z5Q-eh4ML6dv"
      },
      "execution_count": null,
      "outputs": []
    },
    {
      "cell_type": "code",
      "source": [
        "class TrieNode:\n",
        "    def __init__(self):\n",
        "        self.children = {}\n",
        "        self.is_end_of_word = False\n",
        "\n",
        "class Autocomplete:\n",
        "    def __init__(self):\n",
        "        self.root = TrieNode()\n",
        "\n",
        "    def insert(self, word):\n",
        "        node = self.root\n",
        "        for char in word:\n",
        "            if char not in node.children:\n",
        "                node.children[char] = TrieNode()\n",
        "            node = node.children[char]\n",
        "        node.is_end_of_word = True\n",
        "\n",
        "    def autocomplete(self, prefix):\n",
        "        node = self.root\n",
        "        for char in prefix:\n",
        "            if char not in node.children:\n",
        "                return []\n",
        "            node = node.children[char]\n",
        "        return self._dfs(node, prefix)\n",
        "\n",
        "    def _dfs(self, node, prefix):\n",
        "        suggestions = []\n",
        "        if node.is_end_of_word:\n",
        "            suggestions.append(prefix)\n",
        "        for char, child_node in node.children.items():\n",
        "            suggestions.extend(self._dfs(child_node, prefix + char))\n",
        "        return suggestions\n",
        "\n",
        "autocomplete_model = Autocomplete()\n",
        "for word in cleaned_corpus:\n",
        "    autocomplete_model.insert(word)\n",
        "\n",
        "# Example usage\n",
        "prefix = 'ana'\n",
        "suggestions = autocomplete_model.autocomplete(prefix)\n",
        "print(\"Autocomplete suggestions for '{}':\".format(prefix))\n",
        "print(suggestions)\n"
      ],
      "metadata": {
        "colab": {
          "base_uri": "https://localhost:8080/"
        },
        "id": "klMEMkP6JorZ",
        "outputId": "c71c1aa0-07f3-45ed-d9aa-d32c0513a185"
      },
      "execution_count": null,
      "outputs": [
        {
          "output_type": "stream",
          "name": "stdout",
          "text": [
            "Autocomplete suggestions for 'ana':\n",
            "['anacharsis', 'anaconda', 'anacondas', 'anatomy', 'anatomical', 'anatomist', 'anathemas', 'analogous', 'analogy', 'analogies', 'analogical', 'analyse', 'analysed', 'analysis', 'analytic', 'anak']\n"
          ]
        }
      ]
    },
    {
      "cell_type": "code",
      "source": [
        "from collections import Counter\n",
        "\n",
        "def edit_distance(word1, word2):\n",
        "    m, n = len(word1), len(word2)\n",
        "    dp = [[0] * (n + 1) for _ in range(m + 1)]\n",
        "\n",
        "    for i in range(m + 1):\n",
        "        for j in range(n + 1):\n",
        "            if i == 0:\n",
        "                dp[i][j] = j\n",
        "            elif j == 0:\n",
        "                dp[i][j] = i\n",
        "            elif word1[i - 1] == word2[j - 1]:\n",
        "                dp[i][j] = dp[i - 1][j - 1]\n",
        "            else:\n",
        "                dp[i][j] = 1 + min(dp[i - 1][j], dp[i][j - 1], dp[i - 1][j - 1])\n",
        "\n",
        "    return dp[m][n]\n",
        "\n",
        "def autocorrect(word, vocabulary, threshold=2):\n",
        "    suggestions = [(w, edit_distance(word, w)) for w in vocabulary]\n",
        "    suggestions.sort(key=lambda x: x[1])\n",
        "    suggestions = [w for w, d in suggestions if d <= threshold]\n",
        "    return suggestions\n",
        "\n",
        "# Example usage\n",
        "word = 'speling'\n",
        "correction_suggestions = autocorrect(word, cleaned_corpus)\n",
        "print(\"Autocorrect suggestions for '{}':\".format(word))\n",
        "print(correction_suggestions)\n"
      ],
      "metadata": {
        "colab": {
          "base_uri": "https://localhost:8080/"
        },
        "id": "JIs_SW58mhwg",
        "outputId": "95de7c00-1ee7-457a-d994-16d070e91a88"
      },
      "execution_count": null,
      "outputs": [
        {
          "output_type": "stream",
          "name": "stdout",
          "text": [
            "Autocorrect suggestions for 'speling':\n",
            "['spelling', 'opening', 'spring', 'seeming', 'feeling', 'seeing', 'spending', 'feeling', 'selling', 'selling', 'seeing', 'feeling', 'seeing', 'feeling', 'feeling', 'feeling', 'seeing', 'feeling', 'seeing', 'spring', 'pealing', 'opening', 'seeking', 'heeling', 'reeling', 'reeling', 'speaking', 'seeming', 'speaking', 'seeing', 'opening', 'seeing', 'sapling', 'seeming', 'seeing', 'seeing', 'seeing', 'seeing', 'seeing', 'reeling', 'seeming', 'seeking', 'seeming', 'seeing', 'opening', 'speaking', 'speaking', 'speaking', 'seeing', 'seeing', 'seeing', 'feeling', 'sailing', 'opening', 'feeling', 'sailing', 'spoiling', 'speaking', 'seeming', 'sailing', 'seeing', 'feeling', 'spring', 'spring', 'spring', 'spring', 'spring', 'spring', 'spring', 'spring', 'spring', 'swelling', 'spring', 'sailing', 'spring', 'sailing', 'spring', 'speaking', 'seeking', 'seeing', 'speaking', 'seeing', 'seeing', 'spring', 'feeling', 'speaking', 'speaking', 'seeing', 'seeking', 'feeling', 'speaking', 'sapling', 'feeling', 'feeling', 'sailing', 'piling', 'sailing', 'seeking', 'seeming', 'sailing', 'sailing', 'speaking', 'sailing', 'spending', 'opening', 'seeking', 'swelling', 'sailing', 'speaking', 'spring', 'spring', 'spring', 'spring', 'speaking', 'spending', 'seeming', 'sailing', 'seeing', 'sailing', 'feeling', 'speaking', 'spring', 'feeling', 'feeling', 'speaking', 'seeing', 'smiling', 'spilling', 'slewing', 'opening', 'smelling', 'keeling', 'seeking', 'sailing', 'sparing', 'seeking', 'smelling', 'peeling', 'opening', 'speaking', 'speaking', 'feeling', 'stealing', 'seeing', 'seeing', 'opening', 'sailing', 'seeing', 'seeking', 'spending', 'sling', 'sling', 'spring', 'spring', 'seeing', 'swelling', 'seeing', 'seeking', 'sailing', 'smelling', 'sailing', 'stealing', 'opening', 'sailing', 'sailing', 'speeding', 'sailing', 'spring', 'spring', 'spring', 'spring', 'opening', 'spending', 'sailing', 'sailing', 'seeing', 'seeing', 'spying', 'spring', 'feeling', 'feeling', 'spying', 'spending', 'seeing', 'seeing', 'sparing', 'seeing', 'feeling', 'opening', 'opening', 'sailing', 'sailing', 'sailing', 'speaking', 'speaking', 'feeling', 'speaking', 'speaking', 'seeking', 'seeing', 'speaking', 'stealing', 'opening', 'seeing', 'sailing', 'feeling', 'sailing', 'reeling', 'spring', 'sailing', 'sailing', 'feeling', 'sailing', 'feeling', 'spring', 'sailing', 'sailing', 'opening', 'feeling', 'sewing', 'smiling', 'piling', 'feeling', 'sailing', 'spilling', 'sailing', 'seeing', 'feeling', 'spring']\n"
          ]
        }
      ]
    },
    {
      "cell_type": "code",
      "source": [
        "def autocorrect(word, vocabulary, threshold=2):\n",
        "    suggestions = [(w, edit_distance(word, w)) for w in vocabulary]\n",
        "    suggestions.sort(key=lambda x: x[1])\n",
        "    suggestions = [w for w, d in suggestions if d <= threshold]\n",
        "    return suggestions[0] if suggestions else None\n",
        "\n",
        "# Example usage\n",
        "word = 'speling'\n",
        "correction_suggestion = autocorrect(word, cleaned_corpus)\n",
        "print(\"Autocorrect suggestion for '{}':\".format(word))\n",
        "print(correction_suggestion)\n"
      ],
      "metadata": {
        "colab": {
          "base_uri": "https://localhost:8080/"
        },
        "id": "-5b2wz9enjyf",
        "outputId": "56ed0762-5e61-4407-84cb-730ff4f34ce9"
      },
      "execution_count": null,
      "outputs": [
        {
          "output_type": "stream",
          "name": "stdout",
          "text": [
            "Autocorrect suggestion for 'speling':\n",
            "spelling\n"
          ]
        }
      ]
    },
    {
      "cell_type": "code",
      "source": [
        "# Define metrics functions for evaluation\n",
        "def accuracy(predictions, targets):\n",
        "    correct = sum(1 for pred in predictions if pred in targets)\n",
        "    return correct / len(targets)\n",
        "\n",
        "def precision(predictions, targets):\n",
        "    if len(predictions) == 0:\n",
        "        return 0\n",
        "    correct = sum(1 for pred in predictions if pred in targets)\n",
        "    return correct / len(predictions)\n",
        "\n",
        "def recall(predictions, targets):\n",
        "    if len(targets) == 0:\n",
        "        return 0\n",
        "    correct = sum(1 for pred in predictions if pred in targets)\n",
        "    return correct / len(targets)\n",
        "\n",
        "# Example usage\n",
        "# Assuming we have targets for evaluation\n",
        "targets = ['analysis', 'analytics', 'analyzing']\n",
        "predictions = ['analysis', 'analysts', 'anomaly']\n",
        "print(\"Autocomplete Accuracy:\", accuracy(predictions, targets))\n",
        "print(\"Autocomplete Precision:\", precision(predictions, targets))\n",
        "print(\"Autocomplete Recall:\", recall(predictions, targets))\n"
      ],
      "metadata": {
        "colab": {
          "base_uri": "https://localhost:8080/"
        },
        "id": "ZQpE4cYgmhzp",
        "outputId": "a846e3d9-312f-43a1-a30d-aa17987b7080"
      },
      "execution_count": null,
      "outputs": [
        {
          "output_type": "stream",
          "name": "stdout",
          "text": [
            "Autocomplete Accuracy: 0.3333333333333333\n",
            "Autocomplete Precision: 0.3333333333333333\n",
            "Autocomplete Recall: 0.3333333333333333\n"
          ]
        }
      ]
    },
    {
      "cell_type": "code",
      "source": [
        "# Code for collecting feedback and conducting surveys\n",
        "# Example: Collect feedback through user interactions\n",
        "user_input = input(\"Enter text: \")\n",
        "autocomplete_suggestions = autocomplete_model.autocomplete(user_input)\n",
        "print(\"Autocomplete suggestions:\", autocomplete_suggestions)\n",
        "\n",
        "autocorrect_suggestions = autocorrect(user_input, cleaned_corpus)\n",
        "print(\"Autocorrect suggestions:\", autocorrect_suggestions)\n",
        "\n",
        "# Conduct surveys to gather user feedback\n",
        "# Example: Ask users to rate their experience\n",
        "rating = input(\"Rate your experience (1-5): \")\n",
        "comments = input(\"Any additional comments: \")\n"
      ],
      "metadata": {
        "colab": {
          "base_uri": "https://localhost:8080/"
        },
        "id": "BNpVbHT5mh1m",
        "outputId": "3348f9c8-2a31-4f5c-bb43-f23e82f47ac6"
      },
      "execution_count": null,
      "outputs": [
        {
          "name": "stdout",
          "output_type": "stream",
          "text": [
            "Enter text: helo\n",
            "Autocomplete suggestions: []\n",
            "Autocorrect suggestions: hell\n",
            "Rate your experience (1-5): 2\n",
            "Any additional comments: no\n"
          ]
        }
      ]
    },
    {
      "cell_type": "code",
      "source": [
        "# Code for visualization (e.g., using matplotlib, seaborn, or other libraries)\n",
        "# Example: Plotting performance metrics\n",
        "import matplotlib.pyplot as plt\n",
        "\n",
        "# Example data\n",
        "metrics = ['Accuracy', 'Precision', 'Recall']\n",
        "values = [0.85, 0.75, 0.90]\n",
        "\n",
        "plt.bar(metrics, values)\n",
        "plt.title('Performance Metrics')\n",
        "plt.xlabel('Metrics')\n",
        "plt.ylabel('Values')\n",
        "plt.show()\n"
      ],
      "metadata": {
        "colab": {
          "base_uri": "https://localhost:8080/",
          "height": 472
        },
        "id": "5PbJvYkFmh4M",
        "outputId": "9acccabe-4a10-4eac-c825-4c32f7e99541"
      },
      "execution_count": null,
      "outputs": [
        {
          "output_type": "display_data",
          "data": {
            "text/plain": [
              "<Figure size 640x480 with 1 Axes>"
            ],
            "image/png": "[encoded data removed]"
          },
          "metadata": {}
        }
      ]
    }
  ]
}